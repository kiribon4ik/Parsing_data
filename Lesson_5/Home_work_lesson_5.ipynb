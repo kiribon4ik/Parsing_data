{
 "cells": [
  {
   "cell_type": "markdown",
   "metadata": {},
   "source": [
    "**Задание 1**  \n",
    "Написать программу, которая собирает входящие письма из своего или тестового почтового ящика и сложить данные о письмах в базу данных (от кого, дата отправки, тема письма, текст письма полный)\n",
    "Логин тестового ящика: study.ai_172@mail.ru\n",
    "Пароль тестового ящика: NextPassword172"
   ]
  },
  {
   "cell_type": "code",
   "execution_count": 1,
   "metadata": {},
   "outputs": [],
   "source": [
    "import json\n",
    "from pprint import pprint\n",
    "import time\n",
    "from pymongo import MongoClient\n",
    "from selenium import webdriver\n",
    "from selenium.webdriver.chrome.options import Options\n",
    "from selenium.webdriver.support.ui import Select\n",
    "from selenium.webdriver.common.action_chains import ActionChains\n",
    "from selenium.webdriver.common.keys import Keys\n",
    "from selenium.webdriver.support.ui import WebDriverWait\n",
    "from selenium.webdriver.support import expected_conditions as EC\n",
    "from selenium.webdriver.common.by import By\n",
    "\n",
    "with open('user_params.json') as file:\n",
    "    user_params = json.loads(file.read())\n",
    "    \n",
    "chrome_options = Options()\n",
    "chrome_options.add_argument('start-maximized')"
   ]
  },
  {
   "cell_type": "code",
   "execution_count": null,
   "metadata": {},
   "outputs": [],
   "source": []
  },
  {
   "cell_type": "code",
   "execution_count": 2,
   "metadata": {},
   "outputs": [],
   "source": [
    "# Функция добавления документов в коллекции. В качестве аргументов принимает \n",
    "# добавляемый словарь и коллекцию для добавления\n",
    "def add_collection(news_dict, collection, check_name):\n",
    "    for new in news_dict:\n",
    "        count = 0\n",
    "        if collection.count_documents({check_name: new[check_name]}) == 0:\n",
    "            collection.insert_one(new)\n",
    "            count += 1\n",
    "    print(f'В коллекцию {collection.name} добавлено {count} документов. Всего документов в коллекции {collection.count_documents({})}')\n",
    "    \n",
    "# Функция очистки словаря\n",
    "def clear_dict(dictionary, del_features):\n",
    "    for dict_el in dictionary:\n",
    "        for el in del_features:\n",
    "            del dict_el[el]\n",
    "    return dictionary"
   ]
  },
  {
   "cell_type": "code",
   "execution_count": 3,
   "metadata": {},
   "outputs": [],
   "source": [
    "driver = webdriver.Chrome('./chromedriver.exe', options=chrome_options)\n",
    "driver.get('https://mail.ru')\n",
    "wait = WebDriverWait(driver, 10)\n",
    "\n",
    "# Выбираем и заполняем поле \"Имя аккаунта\"\n",
    "user_name = driver.find_element_by_id('mailbox:login-input')\n",
    "user_name.send_keys(user_params['username'])\n",
    "user_name.submit()\n",
    "\n",
    "# Выбираем и заполняем поле пароля\n",
    "user_login = driver.find_element_by_id('mailbox:password-input')\n",
    "user_login.send_keys(user_params['password'])\n",
    "user_login.submit()\n",
    "\n",
    "# Выбираем первое входящее сообщение и заходим в него\n",
    "first_message = wait.until(\n",
    "    EC.presence_of_element_located(\n",
    "        (By.XPATH,\n",
    "         \"//div[@class='dataset__items']//a[contains(@class, 'llc')][1]\")))\n",
    "driver.get(first_message.get_attribute('href'))\n",
    "# Собираем требуемые данные с сообщения и переходим к следующему\n",
    "# Цикл работает до последнего сообщения\n",
    "mail_messages = []\n",
    "\n",
    "while True:\n",
    "    time.sleep(3)\n",
    "    message = {}\n",
    "    \n",
    "    title = driver.find_element(By.CLASS_NAME,'thread__subject')\n",
    "    from_ = driver.find_element(By.XPATH, \n",
    "                                \"//div[@class='letter__author']/span\")\n",
    "    date = driver.find_element(By.XPATH, \n",
    "                               \"//div[contains(@class, 'letter__date')]\")\n",
    "    content = driver.find_element(By.XPATH, \"//div[contains(@class, 'cl_')]\")\n",
    "    \n",
    "    data_id = driver.find_element(\n",
    "        By.XPATH, \n",
    "        \"//div[contains(@class, 'thread__letter')]\").get_attribute('data-id')\n",
    "\n",
    "    message['title'] = title.text\n",
    "    message['from'] = from_.text\n",
    "    message['date'] = date.text\n",
    "    message['content'] = content.text\n",
    "    message['data_id'] = data_id\n",
    "    \n",
    "    mail_messages.append(message)\n",
    "        \n",
    "    button = wait.until(\n",
    "        EC.element_to_be_clickable(\n",
    "            (By.XPATH,\n",
    "             \"//span[contains(@class, 'button2_arrow-down')]\")))\n",
    "    \n",
    "    if 'disabled' in button.get_attribute('class'):\n",
    "        break\n",
    "    else:\n",
    "        button.click()\n",
    "        \n",
    "# Завершаем работу webdriver\n",
    "driver.quit()"
   ]
  },
  {
   "cell_type": "code",
   "execution_count": 5,
   "metadata": {},
   "outputs": [
    {
     "name": "stdout",
     "output_type": "stream",
     "text": [
      "В коллекцию mail_messages добавлено 1 документов. Всего документов в коллекции 124\n"
     ]
    }
   ],
   "source": [
    "# Подключаемся к MongoDB\n",
    "client = MongoClient('127.0.0.1', 27017)\n",
    "\n",
    "# Cоздаем указатель к нашей базе данных\n",
    "db = client['mail_messages']\n",
    "\n",
    "# Создаем коллекцию\n",
    "mail_messages_db = db.mail_messages\n",
    "\n",
    "# Добавляем документы в соответствующие коллкции\n",
    "add_collection(mail_messages, mail_messages_db, 'data_id')"
   ]
  },
  {
   "cell_type": "markdown",
   "metadata": {},
   "source": [
    "**Задание 2**  \n",
    "Написать программу, которая собирает «Хиты продаж» с сайта техники mvideo и складывает данные в БД. Магазины можно выбрать свои. Главный критерий выбора: динамически загружаемые товары"
   ]
  },
  {
   "cell_type": "code",
   "execution_count": 6,
   "metadata": {},
   "outputs": [],
   "source": [
    "# Заходим на страницу mvideo.ru\n",
    "driver = webdriver.Chrome('./chromedriver.exe', options=chrome_options)\n",
    "driver.get('https://www.mvideo.ru/')\n",
    "wait = WebDriverWait(driver, 10)\n",
    "\n",
    "# Переходим к карусели \"Хиты продаж\"\n",
    "hits_block = wait.until(\n",
    "    EC.presence_of_element_located(\n",
    "                        (By.XPATH,\n",
    "                         \"//div[contains(text(),'Хиты продаж')]/../../..\")))\n",
    "action = ActionChains(driver)\n",
    "action.move_to_element(hits_block).perform()\n",
    "\n",
    "# Определяем кнопку прокрутки карусели\n",
    "button = wait.until(\n",
    "        EC.element_to_be_clickable(\n",
    "            (By.XPATH,\n",
    "             \"//div[contains(text() ,'Хиты продаж')]/../../..//a[contains(@class, 'next-btn')]\")))\n",
    "\n",
    "# Прогружаем весь список карусели \"Хиты продаж\"\n",
    "while 'disabled' not in button.get_attribute('class'):\n",
    "    button.click()\n",
    "    \n",
    "# Соберем все необходимые элементы блока \"Хиты продаж\" \n",
    "# и выберем необходимую информацию\n",
    "goods = driver.find_elements(\n",
    "    By.XPATH, \n",
    "    \"//div[contains(text() ,'Хиты продаж')]/../../..//li//a[@class='sel-product-tile-title']\")\n",
    "goods_info = [el.get_attribute(\"data-product-info\") for el in goods]\n",
    "\n",
    "# Завершаем работу webdriver\n",
    "driver.quit()"
   ]
  },
  {
   "cell_type": "code",
   "execution_count": 8,
   "metadata": {},
   "outputs": [
    {
     "name": "stdout",
     "output_type": "stream",
     "text": [
      "{'Location': 'block5260655',\n",
      " 'eventPosition': 5,\n",
      " 'productCategoryId': 'cat2_cis_0000000062',\n",
      " 'productCategoryName': 'Электрочайники',\n",
      " 'productGroupId': 'cat1_cis_0000000003',\n",
      " 'productId': '20062760',\n",
      " 'productName': 'Электрочайник Moulinex BY730132',\n",
      " 'productPriceLocal': '1990.00',\n",
      " 'productVendorName': 'Moulinex'}\n"
     ]
    }
   ],
   "source": [
    "# Подготовим полученные данные \n",
    "# Отчистка от лишних символов\n",
    "goods_info = [el.replace('\\t\\t\\t\\t\\t', '').replace('\\n', '') for el in goods_info]\n",
    "\n",
    "# Преобразуем в словарь\n",
    "goods_dict = [json.loads(el) for el in goods_info]\n",
    "pprint(goods_dict[0])"
   ]
  },
  {
   "cell_type": "code",
   "execution_count": 9,
   "metadata": {},
   "outputs": [
    {
     "name": "stdout",
     "output_type": "stream",
     "text": [
      "{'productCategoryName': 'Электрочайники',\n",
      " 'productId': '20062760',\n",
      " 'productName': 'Электрочайник Moulinex BY730132',\n",
      " 'productPriceLocal': '1990.00',\n",
      " 'productVendorName': 'Moulinex'}\n"
     ]
    }
   ],
   "source": [
    "# Удалим лишние значения в словарях\n",
    "del_features = ['Location', 'eventPosition', \n",
    "            'productCategoryId', 'productGroupId']\n",
    "hit_goods_info = clear_dict(goods_dict, del_features)\n",
    "pprint(hit_goods_info[0])"
   ]
  },
  {
   "cell_type": "code",
   "execution_count": 10,
   "metadata": {},
   "outputs": [
    {
     "name": "stdout",
     "output_type": "stream",
     "text": [
      "В коллекцию mvideo_hits добавлено 1 документов. Всего документов в коллекции 16\n"
     ]
    }
   ],
   "source": [
    "# Подключаемся к MongoDB\n",
    "client = MongoClient('127.0.0.1', 27017)\n",
    "\n",
    "# Cоздаем указатель к нашей базе данных\n",
    "db = client['mvideo_hits']\n",
    "\n",
    "# Создаем коллекцию\n",
    "mvideo_hits_db = db.mvideo_hits\n",
    "\n",
    "# Добавляем документы в соответствующие коллкции\n",
    "add_collection(hit_goods_info, mvideo_hits_db, 'productId')"
   ]
  }
 ],
 "metadata": {
  "kernelspec": {
   "display_name": "Python 3",
   "language": "python",
   "name": "python3"
  },
  "language_info": {
   "codemirror_mode": {
    "name": "ipython",
    "version": 3
   },
   "file_extension": ".py",
   "mimetype": "text/x-python",
   "name": "python",
   "nbconvert_exporter": "python",
   "pygments_lexer": "ipython3",
   "version": "3.7.6"
  },
  "toc": {
   "base_numbering": 1,
   "nav_menu": {},
   "number_sections": true,
   "sideBar": true,
   "skip_h1_title": false,
   "title_cell": "Table of Contents",
   "title_sidebar": "Contents",
   "toc_cell": false,
   "toc_position": {},
   "toc_section_display": true,
   "toc_window_display": false
  }
 },
 "nbformat": 4,
 "nbformat_minor": 4
}
