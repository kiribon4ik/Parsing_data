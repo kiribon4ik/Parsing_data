{
 "cells": [
  {
   "cell_type": "code",
   "execution_count": 1,
   "metadata": {},
   "outputs": [],
   "source": [
    "from pymongo import MongoClient\n",
    "from pprint import pprint\n",
    "import pandas as pd"
   ]
  },
  {
   "cell_type": "markdown",
   "metadata": {},
   "source": [
    "**Задание 1**  \n",
    "Развернуть у себя на компьютере/виртуальной машине/хостинге MongoDB и реализовать функцию, записывающую собранные вакансии в созданную БД"
   ]
  },
  {
   "cell_type": "code",
   "execution_count": 2,
   "metadata": {},
   "outputs": [],
   "source": [
    "# Подключаемся к MongoDB\n",
    "client = MongoClient('127.0.0.1', 27017)\n",
    "\n",
    "# Cоздаем указатель к нашей базе данных\n",
    "db = client['vacanses_database']\n",
    "\n",
    "# Создаем коллекцию вакансий\n",
    "vacanses = db.vacanses"
   ]
  },
  {
   "cell_type": "code",
   "execution_count": 3,
   "metadata": {},
   "outputs": [
    {
     "name": "stdout",
     "output_type": "stream",
     "text": [
      "Коллекция vacanses_database содержит 2060 записей. \n"
     ]
    }
   ],
   "source": [
    "# Подготовим данные для загрузки в базу данных\n",
    "df = pd.read_csv('result_df.csv')\n",
    "df = df.drop(labels='Unnamed: 0', axis='columns')\n",
    "\n",
    "# Загрузим данные в коллекцию vacanses\n",
    "# Вариант 1 весь датасет за один раз\n",
    "vacanses.insert_many(df.to_dict('records'))\n",
    "\n",
    "# Вариант 2 каждую запись одтельно\n",
    "# for vacansy in df.to_dict('records'):\n",
    "#     vacanses.insert_one(vacansy)\n",
    "\n",
    "# Проверим количество записей в базе данных\n",
    "print(f'Коллекция {db.name} содержит {vacanses.count_documents({})} записей. ')"
   ]
  },
  {
   "cell_type": "markdown",
   "metadata": {},
   "source": [
    "**Задание 2**  \n",
    "Написать функцию, которая производит поиск и выводит на экран вакансии с заработной платой больше введенной суммы. Поиск по двум полям (мин и макс зарплату)"
   ]
  },
  {
   "cell_type": "code",
   "execution_count": 4,
   "metadata": {},
   "outputs": [
    {
     "name": "stdout",
     "output_type": "stream",
     "text": [
      "Введите требуемый уровень ЗП: 350000\n",
      "По вашему запросу найдено 3 вакансий\n"
     ]
    }
   ],
   "source": [
    "salary = int(input('Введите требуемый уровень ЗП: '))\n",
    "\n",
    "count_vac = 0\n",
    "for vacansy in vacanses.find({'$or':[{'salary_min':{'$gt':salary}}, {'salary_max':{'$gt':salary}}]}, {'_id':0}):\n",
    "    count_vac += 1\n",
    "print(f'По вашему запросу найдено {count_vac} вакансий')"
   ]
  },
  {
   "cell_type": "markdown",
   "metadata": {},
   "source": [
    "**Задание 3**  \n",
    "Написать функцию, которая будет добавлять в вашу базу данных только новые вакансии с сайта"
   ]
  },
  {
   "cell_type": "code",
   "execution_count": 5,
   "metadata": {},
   "outputs": [
    {
     "name": "stdout",
     "output_type": "stream",
     "text": [
      "В коллекцию vacanses добавлено 0 документов\n"
     ]
    }
   ],
   "source": [
    "# Добавим проверку в цикле\n",
    "\n",
    "for vacansy in df.to_dict('records'):\n",
    "    count = 0\n",
    "    if vacanses.count_documents({'vacancy_link': vacansy['vacancy_link']}) == 0:\n",
    "        vacanses.insert_one(vacansy)\n",
    "        count += 1\n",
    "print(f'В коллекцию {vacanses.name} добавлено {count} документов')\n"
   ]
  }
 ],
 "metadata": {
  "kernelspec": {
   "display_name": "Python 3",
   "language": "python",
   "name": "python3"
  },
  "language_info": {
   "codemirror_mode": {
    "name": "ipython",
    "version": 3
   },
   "file_extension": ".py",
   "mimetype": "text/x-python",
   "name": "python",
   "nbconvert_exporter": "python",
   "pygments_lexer": "ipython3",
   "version": "3.7.6"
  }
 },
 "nbformat": 4,
 "nbformat_minor": 4
}
