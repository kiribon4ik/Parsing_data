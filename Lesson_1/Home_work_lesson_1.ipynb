{
  "cells": [
    {
      "metadata": {},
      "cell_type": "markdown",
      "source": "**Задание 1.**  \nПосмотреть документацию к API GitHub, разобраться как вывести список репозиториев для конкретного пользователя, сохранить JSON-вывод в файле *.json."
    },
    {
      "metadata": {
        "trusted": true
      },
      "cell_type": "code",
      "source": "import requests\nimport json\nfrom pprint import pprint",
      "execution_count": 1,
      "outputs": []
    },
    {
      "metadata": {
        "trusted": true,
        "scrolled": true
      },
      "cell_type": "code",
      "source": "username = input('Please enter the Github username: ')\nrepositories = requests.get(f'https://api.github.com/users/{username}/repos')\ndata = repositories.json()\n\n# Отправляем запрос на ресурс\n# Если статус кода ответа меньше 400 то ответ сервера запишется в файл response.json\n\nif repositories.ok:\n    with open(\"my_file.json\", \"w\") as my_file:\n        json.dump(data, my_file)\n    \n    for repo in repositories.json():\n        if not repo['private']:\n            print(repo['html_url'])\nelse:\n    print('Operation failed')",
      "execution_count": 2,
      "outputs": [
        {
          "output_type": "stream",
          "name": "stdout",
          "text": "Please enter the Github username: anipind\nhttps://github.com/anipind/ASP.NETWebApplication\nhttps://github.com/anipind/demoASP_NET\nhttps://github.com/anipind/helloworld\nhttps://github.com/anipind/NodeJsWebApp1\n"
        }
      ]
    },
    {
      "metadata": {},
      "cell_type": "markdown",
      "source": "**Задание 2.**  \nИзучить список открытых API (https://www.programmableweb.com/category/all/apis). Найти среди них любое, требующее авторизацию (любого типа). Выполнить запросы к нему, пройдя авторизацию. Ответ сервера записать в файл.\n\nЕсли нет желания заморачиваться с поиском, возьмите API вконтакте (https://vk.com/dev/first_guide). Сделайте запрос, чтб получить список всех сообществ на которые вы подписаны."
    },
    {
      "metadata": {
        "trusted": true
      },
      "cell_type": "code",
      "source": "#Запрос формирует список ссылок на фото с марсахода curiosity на определенную дату\n\nearth_date = '2020-4-1' # Указать дату \n\nmain_link = 'https://api.nasa.gov/mars-photos/api/v1/rovers/curiosity/photos'\napi_key ='coOlQ97CsNXoNbUPA79IqP8b73EX4EfpGt8zWxGq'\n\nparams = {'api_key':api_key,\n         'earth_date':earth_date}",
      "execution_count": 3,
      "outputs": []
    },
    {
      "metadata": {
        "trusted": true
      },
      "cell_type": "code",
      "source": "# Отправляем запрос на ресурс\n# Если статус кода ответа меньше 400 то ответ сервера запишется в файл response.json\n\ndata_img = requests.get(main_link, params=params)\n\nif data_img.ok:\n    with open(\"response.json\", \"w\") as response:\n        json.dump(data_img.json(), response)\nelse:\n    print('Operation failed')",
      "execution_count": 4,
      "outputs": []
    },
    {
      "metadata": {
        "trusted": true
      },
      "cell_type": "code",
      "source": "# Получаем список ссылок из ответа сервера\n\nfor img in data_img.json()['photos']:\n    if img['camera']:\n        print(img['img_src'])",
      "execution_count": 5,
      "outputs": [
        {
          "output_type": "stream",
          "text": "https://mars.nasa.gov/msl-raw-images/proj/msl/redops/ods/surface/sol/02721/opgs/edr/fcam/FLB_639043449EDR_F0790654FHAZ00341M_.JPG\nhttps://mars.nasa.gov/msl-raw-images/proj/msl/redops/ods/surface/sol/02721/opgs/edr/fcam/FRB_639043449EDR_F0790654FHAZ00341M_.JPG\nhttps://mars.nasa.gov/msl-raw-images/proj/msl/redops/ods/surface/sol/02721/opgs/edr/rcam/RRB_639043483EDR_F0790654RHAZ00341M_.JPG\nhttps://mars.nasa.gov/msl-raw-images/proj/msl/redops/ods/surface/sol/02721/opgs/edr/rcam/RLB_639043483EDR_F0790654RHAZ00341M_.JPG\nhttps://mars.nasa.gov/msl-raw-images/msss/02721/mcam/2721MR0142330001200329C00_DXXX.jpg\nhttps://mars.nasa.gov/msl-raw-images/msss/02721/mcam/2721MR0142340141200344I01_DXXX.jpg\nhttps://mars.nasa.gov/msl-raw-images/msss/02721/mcam/2721ML0142340141004257I01_DXXX.jpg\nhttps://mars.nasa.gov/msl-raw-images/msss/02721/mcam/2721MR0142340131200343I01_DXXX.jpg\nhttps://mars.nasa.gov/msl-raw-images/msss/02721/mcam/2721ML0142340131004256I01_DXXX.jpg\nhttps://mars.nasa.gov/msl-raw-images/msss/02721/mcam/2721MR0142340121200342I01_DXXX.jpg\nhttps://mars.nasa.gov/msl-raw-images/msss/02721/mcam/2721ML0142340121004255I01_DXXX.jpg\nhttps://mars.nasa.gov/msl-raw-images/msss/02721/mcam/2721MR0142340111200341I01_DXXX.jpg\nhttps://mars.nasa.gov/msl-raw-images/msss/02721/mcam/2721ML0142340111004254I01_DXXX.jpg\nhttps://mars.nasa.gov/msl-raw-images/msss/02721/mcam/2721MR0142340101200340I01_DXXX.jpg\nhttps://mars.nasa.gov/msl-raw-images/msss/02721/mcam/2721ML0142340101004253I01_DXXX.jpg\nhttps://mars.nasa.gov/msl-raw-images/msss/02721/mcam/2721MR0142340091200339I01_DXXX.jpg\nhttps://mars.nasa.gov/msl-raw-images/msss/02721/mcam/2721ML0142340091004252I01_DXXX.jpg\nhttps://mars.nasa.gov/msl-raw-images/msss/02721/mcam/2721MR0142340081200338I01_DXXX.jpg\nhttps://mars.nasa.gov/msl-raw-images/msss/02721/mcam/2721ML0142340081004251I01_DXXX.jpg\nhttps://mars.nasa.gov/msl-raw-images/msss/02721/mcam/2721MR0142340071200337I01_DXXX.jpg\nhttps://mars.nasa.gov/msl-raw-images/msss/02721/mcam/2721ML0142340071004250I01_DXXX.jpg\nhttps://mars.nasa.gov/msl-raw-images/msss/02721/mcam/2721MR0142340061200336I01_DXXX.jpg\nhttps://mars.nasa.gov/msl-raw-images/msss/02721/mcam/2721ML0142340061004249I01_DXXX.jpg\nhttps://mars.nasa.gov/msl-raw-images/msss/02721/mcam/2721MR0142340051200335I01_DXXX.jpg\nhttps://mars.nasa.gov/msl-raw-images/msss/02721/mcam/2721ML0142340051004248I01_DXXX.jpg\nhttps://mars.nasa.gov/msl-raw-images/msss/02721/mcam/2721MR0142340041200334I01_DXXX.jpg\nhttps://mars.nasa.gov/msl-raw-images/msss/02721/mcam/2721ML0142340041004247I01_DXXX.jpg\nhttps://mars.nasa.gov/msl-raw-images/msss/02721/mcam/2721MR0142340031200333I01_DXXX.jpg\nhttps://mars.nasa.gov/msl-raw-images/msss/02721/mcam/2721ML0142340031004246I01_DXXX.jpg\nhttps://mars.nasa.gov/msl-raw-images/msss/02721/mcam/2721MR0142340021200332I01_DXXX.jpg\nhttps://mars.nasa.gov/msl-raw-images/msss/02721/mcam/2721ML0142340021004245I01_DXXX.jpg\nhttps://mars.nasa.gov/msl-raw-images/msss/02721/mcam/2721MR0142340011200331I01_DXXX.jpg\nhttps://mars.nasa.gov/msl-raw-images/msss/02721/mcam/2721ML0142340011004244I01_DXXX.jpg\nhttps://mars.nasa.gov/msl-raw-images/msss/02721/mcam/2721MR0142340001200330I01_DXXX.jpg\nhttps://mars.nasa.gov/msl-raw-images/msss/02721/mcam/2721MR0142330001200329I01_DXXX.jpg\nhttps://mars.nasa.gov/msl-raw-images/proj/msl/redops/ods/surface/sol/02721/opgs/edr/ccam/CR0_639045097EDR_F0790654CCAM05720M_.JPG\nhttps://mars.nasa.gov/msl-raw-images/proj/msl/redops/ods/surface/sol/02721/opgs/edr/ccam/CR0_639044506EDR_F0790654CCAM05720M_.JPG\nhttps://mars.nasa.gov/msl-raw-images/proj/msl/redops/ods/surface/sol/02721/soas/rdr/ccam/CR0_639045097PRC_F0790654CCAM05720L1.PNG\nhttps://mars.nasa.gov/msl-raw-images/proj/msl/redops/ods/surface/sol/02721/soas/rdr/ccam/CR0_639044506PRC_F0790654CCAM05720L1.PNG\nhttps://mars.nasa.gov/msl-raw-images/proj/msl/redops/ods/surface/sol/02721/opgs/edr/ncam/NRB_639046025EDR_M0790654NCAM00580M_.JPG\nhttps://mars.nasa.gov/msl-raw-images/proj/msl/redops/ods/surface/sol/02721/opgs/edr/ncam/NRB_639043963EDR_M0790654NCAM00591M_.JPG\nhttps://mars.nasa.gov/msl-raw-images/proj/msl/redops/ods/surface/sol/02721/opgs/edr/ncam/NRB_639043951EDR_M0790654NCAM00591M_.JPG\nhttps://mars.nasa.gov/msl-raw-images/proj/msl/redops/ods/surface/sol/02721/opgs/edr/ncam/NRB_639043938EDR_M0790654NCAM00591M_.JPG\nhttps://mars.nasa.gov/msl-raw-images/proj/msl/redops/ods/surface/sol/02721/opgs/edr/ncam/NRB_639043913EDR_M0790654NCAM00591M_.JPG\nhttps://mars.nasa.gov/msl-raw-images/proj/msl/redops/ods/surface/sol/02721/opgs/edr/ncam/NRB_639043900EDR_M0790654NCAM00591M_.JPG\nhttps://mars.nasa.gov/msl-raw-images/proj/msl/redops/ods/surface/sol/02721/opgs/edr/ncam/NRB_639043888EDR_M0790654NCAM00591M_.JPG\nhttps://mars.nasa.gov/msl-raw-images/proj/msl/redops/ods/surface/sol/02721/opgs/edr/ncam/NRB_639043855EDR_M0790654NCAM00591M_.JPG\nhttps://mars.nasa.gov/msl-raw-images/proj/msl/redops/ods/surface/sol/02721/opgs/edr/ncam/NRB_639043842EDR_M0790654NCAM00591M_.JPG\nhttps://mars.nasa.gov/msl-raw-images/proj/msl/redops/ods/surface/sol/02721/opgs/edr/ncam/NRB_639043830EDR_M0790654NCAM00591M_.JPG\nhttps://mars.nasa.gov/msl-raw-images/proj/msl/redops/ods/surface/sol/02721/opgs/edr/ncam/NRB_639043797EDR_M0790654NCAM00591M_.JPG\nhttps://mars.nasa.gov/msl-raw-images/proj/msl/redops/ods/surface/sol/02721/opgs/edr/ncam/NRB_639043784EDR_M0790654NCAM00591M_.JPG\nhttps://mars.nasa.gov/msl-raw-images/proj/msl/redops/ods/surface/sol/02721/opgs/edr/ncam/NRB_639043771EDR_M0790654NCAM00591M_.JPG\nhttps://mars.nasa.gov/msl-raw-images/proj/msl/redops/ods/surface/sol/02721/opgs/edr/ncam/NRB_639043745EDR_M0790654NCAM00591M_.JPG\nhttps://mars.nasa.gov/msl-raw-images/proj/msl/redops/ods/surface/sol/02721/opgs/edr/ncam/NRB_639043732EDR_M0790654NCAM00591M_.JPG\nhttps://mars.nasa.gov/msl-raw-images/proj/msl/redops/ods/surface/sol/02721/opgs/edr/ncam/NRB_639043720EDR_M0790654NCAM00591M_.JPG\nhttps://mars.nasa.gov/msl-raw-images/proj/msl/redops/ods/surface/sol/02721/opgs/edr/ncam/NRB_639043687EDR_M0790654NCAM00591M_.JPG\nhttps://mars.nasa.gov/msl-raw-images/proj/msl/redops/ods/surface/sol/02721/opgs/edr/ncam/NRB_639043674EDR_M0790654NCAM00591M_.JPG\nhttps://mars.nasa.gov/msl-raw-images/proj/msl/redops/ods/surface/sol/02721/opgs/edr/ncam/NRB_639043662EDR_M0790654NCAM00591M_.JPG\nhttps://mars.nasa.gov/msl-raw-images/proj/msl/redops/ods/surface/sol/02721/opgs/edr/ncam/NRB_639043629EDR_M0790654NCAM00591M_.JPG\nhttps://mars.nasa.gov/msl-raw-images/proj/msl/redops/ods/surface/sol/02721/opgs/edr/ncam/NRB_639043617EDR_M0790654NCAM00591M_.JPG\nhttps://mars.nasa.gov/msl-raw-images/proj/msl/redops/ods/surface/sol/02721/opgs/edr/ncam/NRB_639043604EDR_M0790654NCAM00591M_.JPG\nhttps://mars.nasa.gov/msl-raw-images/proj/msl/redops/ods/surface/sol/02721/opgs/edr/ncam/NRB_639043578EDR_M0790654NCAM00591M_.JPG\nhttps://mars.nasa.gov/msl-raw-images/proj/msl/redops/ods/surface/sol/02721/opgs/edr/ncam/NRB_639043566EDR_M0790654NCAM00591M_.JPG\nhttps://mars.nasa.gov/msl-raw-images/proj/msl/redops/ods/surface/sol/02721/opgs/edr/ncam/NRB_639043554EDR_M0790654NCAM00591M_.JPG\n",
          "name": "stdout"
        }
      ]
    }
  ],
  "metadata": {
    "kernelspec": {
      "name": "python36",
      "display_name": "Python 3.6",
      "language": "python"
    },
    "language_info": {
      "mimetype": "text/x-python",
      "nbconvert_exporter": "python",
      "name": "python",
      "pygments_lexer": "ipython3",
      "version": "3.6.6",
      "file_extension": ".py",
      "codemirror_mode": {
        "version": 3,
        "name": "ipython"
      }
    }
  },
  "nbformat": 4,
  "nbformat_minor": 2
}