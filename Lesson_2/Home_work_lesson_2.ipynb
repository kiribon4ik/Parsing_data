{
  "cells": [
    {
      "metadata": {},
      "cell_type": "markdown",
      "source": "**Задание 1**  \nНеобходимо собрать информацию о вакансиях на вводимую должность (используем input или через аргументы) с сайтов Superjob и HH. Приложение должно анализировать несколько страниц сайта (также вводим через input или аргументы). Получившийся список должен содержать в себе минимум:\n\nНаименование вакансии.\nПредлагаемую зарплату (отдельно минимальную и максимальную).\nСсылку на саму вакансию.\nСайт, откуда собрана вакансия.\nПо желанию можно добавить ещё параметры вакансии (например, работодателя и расположение). Структура должна быть одинаковая для вакансий с обоих сайтов. Общий результат можно вывести с помощью dataFrame через pandas."
    },
    {
      "metadata": {
        "trusted": true
      },
      "cell_type": "code",
      "source": "import json\nimport requests\nfrom pprint import pprint\nfrom bs4 import BeautifulSoup as bs\nimport pandas as pd\n\nmain_link = 'https://hh.ru'\nheaders = {'User-Agent':'Mozilla/5.0 (Windows NT 10.0; Win64; x64) AppleWebKit/537.36 (KHTML, like Gecko) Chrome/85.0.4183.83 Safari/537.36'}",
      "execution_count": 1,
      "outputs": []
    },
    {
      "metadata": {
        "trusted": true
      },
      "cell_type": "code",
      "source": "# Сбор информации о вакансиях с площадки Head Hanter\n\nvacancies = []\n\nnum_page = int(input('Введите количество страниц для поиска: '))\nsearch_text = input('Введите ключевое слово для поиска: ')\n\nfor i in range(num_page):\n    params = {\n        'clusters': 'true',  \n        'enable_snippets': 'true',  \n        'text': search_text,\n        'L_save_area': 'true',\n        'area': '1', # Поиск проходит по вакансиям \n        'from': 'cluster_area',\n        'showClusters': 'false',\n        'page':i\n    }\n\n    html = requests.get(main_link + '/search/vacancy', params=params, headers=headers)\n    soup = bs(html.text,'html.parser')\n\n    vacancies_block = soup.find('div',{'class':'vacancy-serp'})\n    vacancies_list = vacancies_block.find_all('div',{'class':'vacancy-serp-item'}) \n    \n    for vacancy in vacancies_list:\n        vacancy_data = {}\n        vacancy_name = vacancy.find('a', {'class':['bloko-link', 'HH-LinkModifier']}).getText()\n        vacancy_link = vacancy.find('a', {'class':['bloko-link', 'HH-LinkModifier']})['href']\n        employer_link = main_link + vacancy.find('div', {'class':['vacancy-serp-item__meta-info']}).find('a')['href']\n        \n        vacancy_data['vacancy_name'] = vacancy_name\n        vacancy_data['vacancy_link'] = vacancy_link\n        vacancy_data['employer_link'] = employer_link\n\n        salalary_data = vacancy.find('div', {'class':['vacancy-serp-item__sidebar']}).getText()\n        salary_list = salalary_data.replace(u'\\xa0', '').replace('-', ' ').split()\n\n        if 'от' in salary_list:\n            vacancy_data['salary_min'] = salary_list[1]\n            vacancy_data['salary_max'] = None\n            vacancy_data['salary_unit'] = salary_list.pop()\n        elif 'до' in salary_list:\n            vacancy_data['salary_min'] = None\n            vacancy_data['salary_max'] = salary_list[1]\n            vacancy_data['salary_unit'] = salary_list.pop()\n        elif len(salary_list) > 2:\n            vacancy_data['salary_min'] = salary_list[0]\n            vacancy_data['salary_max'] = salary_list[1]\n            vacancy_data['salary_unit'] = salary_list.pop()\n        else:\n            vacancy_data['salary_min'] = None\n            vacancy_data['salary_max'] = None\n            vacancy_data['salary_unit'] = None\n\n        vacancies.append(vacancy_data)\n\nprint(f'По вашему запросу найдено {len(vacancies)} вакансий')",
      "execution_count": 2,
      "outputs": [
        {
          "output_type": "stream",
          "name": "stdout",
          "text": "Введите количество страниц для поиска: 40\nВведите ключевое слово для поиска: python\nПо вашему запросу найдено 2000 вакансий\n"
        }
      ]
    },
    {
      "metadata": {
        "trusted": true,
        "scrolled": true
      },
      "cell_type": "code",
      "source": "result = pd.DataFrame(vacancies)\nresult.head()",
      "execution_count": 3,
      "outputs": [
        {
          "output_type": "execute_result",
          "execution_count": 3,
          "data": {
            "text/html": "<div>\n<style scoped>\n    .dataframe tbody tr th:only-of-type {\n        vertical-align: middle;\n    }\n\n    .dataframe tbody tr th {\n        vertical-align: top;\n    }\n\n    .dataframe thead th {\n        text-align: right;\n    }\n</style>\n<table border=\"1\" class=\"dataframe\">\n  <thead>\n    <tr style=\"text-align: right;\">\n      <th></th>\n      <th>employer_link</th>\n      <th>salary_max</th>\n      <th>salary_min</th>\n      <th>salary_unit</th>\n      <th>vacancy_link</th>\n      <th>vacancy_name</th>\n    </tr>\n  </thead>\n  <tbody>\n    <tr>\n      <th>0</th>\n      <td>https://hh.ru/employer/1776381</td>\n      <td>180000</td>\n      <td>100000</td>\n      <td>руб.</td>\n      <td>https://hh.ru/vacancy/37674249?query=python</td>\n      <td>Программист-разработчик (python)</td>\n    </tr>\n    <tr>\n      <th>1</th>\n      <td>https://hh.ru/employer/1455?dpt=hh-1455-ds</td>\n      <td>None</td>\n      <td>None</td>\n      <td>None</td>\n      <td>https://hh.ru/vacancy/37844601?query=python</td>\n      <td>Machine Learning Developer</td>\n    </tr>\n    <tr>\n      <th>2</th>\n      <td>https://hh.ru/employer/2279941</td>\n      <td>140000</td>\n      <td>80000</td>\n      <td>руб.</td>\n      <td>https://hh.ru/vacancy/38814959?query=python</td>\n      <td>Junior Python developer</td>\n    </tr>\n    <tr>\n      <th>3</th>\n      <td>https://hh.ru/employer/2386651</td>\n      <td>120000</td>\n      <td>100000</td>\n      <td>руб.</td>\n      <td>https://hh.ru/vacancy/39085104?query=python</td>\n      <td>Python разработчик</td>\n    </tr>\n    <tr>\n      <th>4</th>\n      <td>https://hh.ru/employer/4835563</td>\n      <td>170000</td>\n      <td>120000</td>\n      <td>руб.</td>\n      <td>https://hh.ru/vacancy/38660476?query=python</td>\n      <td>Программист Python</td>\n    </tr>\n  </tbody>\n</table>\n</div>",
            "text/plain": "                                employer_link salary_max salary_min  \\\n0              https://hh.ru/employer/1776381     180000     100000   \n1  https://hh.ru/employer/1455?dpt=hh-1455-ds       None       None   \n2              https://hh.ru/employer/2279941     140000      80000   \n3              https://hh.ru/employer/2386651     120000     100000   \n4              https://hh.ru/employer/4835563     170000     120000   \n\n  salary_unit                                 vacancy_link  \\\n0        руб.  https://hh.ru/vacancy/37674249?query=python   \n1        None  https://hh.ru/vacancy/37844601?query=python   \n2        руб.  https://hh.ru/vacancy/38814959?query=python   \n3        руб.  https://hh.ru/vacancy/39085104?query=python   \n4        руб.  https://hh.ru/vacancy/38660476?query=python   \n\n                       vacancy_name  \n0  Программист-разработчик (python)  \n1        Machine Learning Developer  \n2           Junior Python developer  \n3                Python разработчик  \n4                Программист Python  "
          },
          "metadata": {}
        }
      ]
    },
    {
      "metadata": {
        "trusted": true
      },
      "cell_type": "code",
      "source": "result.info()",
      "execution_count": 4,
      "outputs": [
        {
          "output_type": "stream",
          "text": "<class 'pandas.core.frame.DataFrame'>\nRangeIndex: 2000 entries, 0 to 1999\nData columns (total 6 columns):\nemployer_link    2000 non-null object\nsalary_max       305 non-null object\nsalary_min       376 non-null object\nsalary_unit      468 non-null object\nvacancy_link     2000 non-null object\nvacancy_name     2000 non-null object\ndtypes: object(6)\nmemory usage: 93.8+ KB\n",
          "name": "stdout"
        }
      ]
    }
  ],
  "metadata": {
    "kernelspec": {
      "name": "python36",
      "display_name": "Python 3.6",
      "language": "python"
    },
    "language_info": {
      "mimetype": "text/x-python",
      "nbconvert_exporter": "python",
      "name": "python",
      "pygments_lexer": "ipython3",
      "version": "3.6.6",
      "file_extension": ".py",
      "codemirror_mode": {
        "version": 3,
        "name": "ipython"
      }
    }
  },
  "nbformat": 4,
  "nbformat_minor": 2
}